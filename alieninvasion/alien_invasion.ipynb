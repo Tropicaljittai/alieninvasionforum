{
 "cells": [
  {
   "cell_type": "code",
   "execution_count": null,
   "metadata": {},
   "outputs": [],
   "source": [
    "import pygame\n",
    "from pygame.sprite import Group\n",
    "\n",
    "from settings import Settings\n",
    "from game_stats import GameStats\n",
    "from scoreboard import Scoreboard\n",
    "from button import Button\n",
    "from ship import Ship\n",
    "import game_functions as gf\n",
    "\n",
    "\n",
    "def run_game():\n",
    "    # Initialize pygame, settings, and screen object.\n",
    "    pygame.init()\n",
    "    ai_settings = Settings()\n",
    "    screen = pygame.display.set_mode(\n",
    "        (ai_settings.screen_width, ai_settings.screen_height)\n",
    "    )\n",
    "    pygame.display.set_caption(\"Alien Invasion\")\n",
    "\n",
    "    # Make the Play button.\n",
    "    play_button = Button(ai_settings, screen, \"Play\")\n",
    "\n",
    "    # Create an instance to store game statistics, and a scoreboard.\n",
    "    stats = GameStats(ai_settings)\n",
    "    sb = Scoreboard(ai_settings, screen, stats)\n",
    "\n",
    "    # Set the background color.\n",
    "    bg_color = (230, 230, 230)\n",
    "\n",
    "    # Make a ship, a group of bullets, and a group of aliens.\n",
    "    ship = Ship(ai_settings, screen)\n",
    "    bullets = Group()\n",
    "    aliens = Group()\n",
    "\n",
    "    # Create the fleet of aliens.\n",
    "    gf.create_fleet(ai_settings, screen, ship, aliens)\n",
    "\n",
    "    # Start the main loop for the game.\n",
    "    while True:\n",
    "        gf.check_events(\n",
    "            ai_settings, screen, stats, sb, play_button, ship, aliens, bullets\n",
    "        )\n",
    "\n",
    "        if stats.game_active:\n",
    "            ship.update()\n",
    "            gf.update_bullets(ai_settings, screen, stats, sb, ship, aliens, bullets)\n",
    "            gf.update_aliens(ai_settings, screen, stats, sb, ship, aliens, bullets)\n",
    "\n",
    "        gf.update_screen(\n",
    "            ai_settings, screen, stats, sb, ship, aliens, bullets, play_button\n",
    "        )\n",
    "\n",
    "\n",
    "run_game()\n"
   ]
  }
 ],
 "metadata": {
  "kernelspec": {
   "display_name": "Python 3.10.7 64-bit",
   "language": "python",
   "name": "python3"
  },
  "language_info": {
   "name": "python",
   "version": "3.10.7"
  },
  "orig_nbformat": 4,
  "vscode": {
   "interpreter": {
    "hash": "f6599f1fc4828c63e2b80b7cb09ba55f323222ad0836319fa558988e2a98299f"
   }
  }
 },
 "nbformat": 4,
 "nbformat_minor": 2
}
